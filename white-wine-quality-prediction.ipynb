{
 "cells": [
  {
   "cell_type": "code",
   "execution_count": 1,
   "id": "aea4490d",
   "metadata": {
    "execution": {
     "iopub.execute_input": "2022-08-22T06:24:09.210386Z",
     "iopub.status.busy": "2022-08-22T06:24:09.209359Z",
     "iopub.status.idle": "2022-08-22T06:24:10.765719Z",
     "shell.execute_reply": "2022-08-22T06:24:10.763929Z"
    },
    "papermill": {
     "duration": 1.568288,
     "end_time": "2022-08-22T06:24:10.769438",
     "exception": false,
     "start_time": "2022-08-22T06:24:09.201150",
     "status": "completed"
    },
    "tags": []
   },
   "outputs": [],
   "source": [
    "import numpy as np\n",
    "import pandas as pd\n",
    "import seaborn as sns\n",
    "from sklearn.svm import SVC\n",
    "import matplotlib.pyplot as plt\n",
    "from sklearn.linear_model import SGDClassifier\n",
    "from sklearn.preprocessing import LabelEncoder\n",
    "from sklearn.model_selection import GridSearchCV\n",
    "from sklearn.ensemble import RandomForestClassifier\n",
    "from sklearn.metrics import classification_report,confusion_matrix,accuracy_score\n",
    "from sklearn.linear_model import LinearRegression\n",
    "from sklearn.ensemble import RandomForestRegressor\n",
    "\n"
   ]
  },
  {
   "cell_type": "code",
   "execution_count": 2,
   "id": "ccaade4a",
   "metadata": {
    "execution": {
     "iopub.execute_input": "2022-08-22T06:24:10.781268Z",
     "iopub.status.busy": "2022-08-22T06:24:10.780880Z",
     "iopub.status.idle": "2022-08-22T06:24:10.851616Z",
     "shell.execute_reply": "2022-08-22T06:24:10.850769Z"
    },
    "papermill": {
     "duration": 0.079913,
     "end_time": "2022-08-22T06:24:10.854934",
     "exception": false,
     "start_time": "2022-08-22T06:24:10.775021",
     "status": "completed"
    },
    "tags": []
   },
   "outputs": [
    {
     "data": {
      "text/html": [
       "<div>\n",
       "<style scoped>\n",
       "    .dataframe tbody tr th:only-of-type {\n",
       "        vertical-align: middle;\n",
       "    }\n",
       "\n",
       "    .dataframe tbody tr th {\n",
       "        vertical-align: top;\n",
       "    }\n",
       "\n",
       "    .dataframe thead th {\n",
       "        text-align: right;\n",
       "    }\n",
       "</style>\n",
       "<table border=\"1\" class=\"dataframe\">\n",
       "  <thead>\n",
       "    <tr style=\"text-align: right;\">\n",
       "      <th></th>\n",
       "      <th>type</th>\n",
       "      <th>fixed acidity</th>\n",
       "      <th>volatile acidity</th>\n",
       "      <th>citric acid</th>\n",
       "      <th>residual sugar</th>\n",
       "      <th>chlorides</th>\n",
       "      <th>free sulfur dioxide</th>\n",
       "      <th>total sulfur dioxide</th>\n",
       "      <th>density</th>\n",
       "      <th>pH</th>\n",
       "      <th>sulphates</th>\n",
       "      <th>alcohol</th>\n",
       "      <th>quality</th>\n",
       "    </tr>\n",
       "  </thead>\n",
       "  <tbody>\n",
       "    <tr>\n",
       "      <th>0</th>\n",
       "      <td>white</td>\n",
       "      <td>7.0</td>\n",
       "      <td>0.27</td>\n",
       "      <td>0.36</td>\n",
       "      <td>20.7</td>\n",
       "      <td>0.045</td>\n",
       "      <td>45.0</td>\n",
       "      <td>170.0</td>\n",
       "      <td>1.0010</td>\n",
       "      <td>3.00</td>\n",
       "      <td>0.45</td>\n",
       "      <td>8.8</td>\n",
       "      <td>6</td>\n",
       "    </tr>\n",
       "    <tr>\n",
       "      <th>1</th>\n",
       "      <td>white</td>\n",
       "      <td>6.3</td>\n",
       "      <td>0.30</td>\n",
       "      <td>0.34</td>\n",
       "      <td>1.6</td>\n",
       "      <td>0.049</td>\n",
       "      <td>14.0</td>\n",
       "      <td>132.0</td>\n",
       "      <td>0.9940</td>\n",
       "      <td>3.30</td>\n",
       "      <td>0.49</td>\n",
       "      <td>9.5</td>\n",
       "      <td>6</td>\n",
       "    </tr>\n",
       "    <tr>\n",
       "      <th>2</th>\n",
       "      <td>white</td>\n",
       "      <td>8.1</td>\n",
       "      <td>0.28</td>\n",
       "      <td>0.40</td>\n",
       "      <td>6.9</td>\n",
       "      <td>0.050</td>\n",
       "      <td>30.0</td>\n",
       "      <td>97.0</td>\n",
       "      <td>0.9951</td>\n",
       "      <td>3.26</td>\n",
       "      <td>0.44</td>\n",
       "      <td>10.1</td>\n",
       "      <td>6</td>\n",
       "    </tr>\n",
       "    <tr>\n",
       "      <th>3</th>\n",
       "      <td>white</td>\n",
       "      <td>7.2</td>\n",
       "      <td>0.23</td>\n",
       "      <td>0.32</td>\n",
       "      <td>8.5</td>\n",
       "      <td>0.058</td>\n",
       "      <td>47.0</td>\n",
       "      <td>186.0</td>\n",
       "      <td>0.9956</td>\n",
       "      <td>3.19</td>\n",
       "      <td>0.40</td>\n",
       "      <td>9.9</td>\n",
       "      <td>6</td>\n",
       "    </tr>\n",
       "    <tr>\n",
       "      <th>4</th>\n",
       "      <td>white</td>\n",
       "      <td>7.2</td>\n",
       "      <td>0.23</td>\n",
       "      <td>0.32</td>\n",
       "      <td>8.5</td>\n",
       "      <td>0.058</td>\n",
       "      <td>47.0</td>\n",
       "      <td>186.0</td>\n",
       "      <td>0.9956</td>\n",
       "      <td>3.19</td>\n",
       "      <td>0.40</td>\n",
       "      <td>9.9</td>\n",
       "      <td>6</td>\n",
       "    </tr>\n",
       "  </tbody>\n",
       "</table>\n",
       "</div>"
      ],
      "text/plain": [
       "    type  fixed acidity  volatile acidity  citric acid  residual sugar  \\\n",
       "0  white            7.0              0.27         0.36            20.7   \n",
       "1  white            6.3              0.30         0.34             1.6   \n",
       "2  white            8.1              0.28         0.40             6.9   \n",
       "3  white            7.2              0.23         0.32             8.5   \n",
       "4  white            7.2              0.23         0.32             8.5   \n",
       "\n",
       "   chlorides  free sulfur dioxide  total sulfur dioxide  density    pH  \\\n",
       "0      0.045                 45.0                 170.0   1.0010  3.00   \n",
       "1      0.049                 14.0                 132.0   0.9940  3.30   \n",
       "2      0.050                 30.0                  97.0   0.9951  3.26   \n",
       "3      0.058                 47.0                 186.0   0.9956  3.19   \n",
       "4      0.058                 47.0                 186.0   0.9956  3.19   \n",
       "\n",
       "   sulphates  alcohol  quality  \n",
       "0       0.45      8.8        6  \n",
       "1       0.49      9.5        6  \n",
       "2       0.44     10.1        6  \n",
       "3       0.40      9.9        6  \n",
       "4       0.40      9.9        6  "
      ]
     },
     "execution_count": 2,
     "metadata": {},
     "output_type": "execute_result"
    }
   ],
   "source": [
    "wine= pd.read_csv(\"/kaggle/input/winequalitydata/winequalityN.csv\")\n",
    "wine.head()"
   ]
  },
  {
   "cell_type": "code",
   "execution_count": 3,
   "id": "b9d3212e",
   "metadata": {
    "execution": {
     "iopub.execute_input": "2022-08-22T06:24:10.866150Z",
     "iopub.status.busy": "2022-08-22T06:24:10.865100Z",
     "iopub.status.idle": "2022-08-22T06:24:10.883283Z",
     "shell.execute_reply": "2022-08-22T06:24:10.882256Z"
    },
    "papermill": {
     "duration": 0.026676,
     "end_time": "2022-08-22T06:24:10.886093",
     "exception": false,
     "start_time": "2022-08-22T06:24:10.859417",
     "status": "completed"
    },
    "tags": []
   },
   "outputs": [],
   "source": [
    "df=wine.groupby('type')\n",
    "\n",
    "white= df.get_group('white')\n"
   ]
  },
  {
   "cell_type": "code",
   "execution_count": 4,
   "id": "fafa995c",
   "metadata": {
    "execution": {
     "iopub.execute_input": "2022-08-22T06:24:10.896528Z",
     "iopub.status.busy": "2022-08-22T06:24:10.896121Z",
     "iopub.status.idle": "2022-08-22T06:24:10.919214Z",
     "shell.execute_reply": "2022-08-22T06:24:10.917948Z"
    },
    "papermill": {
     "duration": 0.031417,
     "end_time": "2022-08-22T06:24:10.921903",
     "exception": false,
     "start_time": "2022-08-22T06:24:10.890486",
     "status": "completed"
    },
    "tags": []
   },
   "outputs": [
    {
     "data": {
      "text/html": [
       "<div>\n",
       "<style scoped>\n",
       "    .dataframe tbody tr th:only-of-type {\n",
       "        vertical-align: middle;\n",
       "    }\n",
       "\n",
       "    .dataframe tbody tr th {\n",
       "        vertical-align: top;\n",
       "    }\n",
       "\n",
       "    .dataframe thead th {\n",
       "        text-align: right;\n",
       "    }\n",
       "</style>\n",
       "<table border=\"1\" class=\"dataframe\">\n",
       "  <thead>\n",
       "    <tr style=\"text-align: right;\">\n",
       "      <th></th>\n",
       "      <th>fixed acidity</th>\n",
       "      <th>volatile acidity</th>\n",
       "      <th>citric acid</th>\n",
       "      <th>residual sugar</th>\n",
       "      <th>chlorides</th>\n",
       "      <th>free sulfur dioxide</th>\n",
       "      <th>total sulfur dioxide</th>\n",
       "      <th>density</th>\n",
       "      <th>pH</th>\n",
       "      <th>sulphates</th>\n",
       "      <th>alcohol</th>\n",
       "      <th>quality</th>\n",
       "    </tr>\n",
       "  </thead>\n",
       "  <tbody>\n",
       "    <tr>\n",
       "      <th>0</th>\n",
       "      <td>7.0</td>\n",
       "      <td>0.27</td>\n",
       "      <td>0.36</td>\n",
       "      <td>20.7</td>\n",
       "      <td>0.045</td>\n",
       "      <td>45.0</td>\n",
       "      <td>170.0</td>\n",
       "      <td>1.0010</td>\n",
       "      <td>3.00</td>\n",
       "      <td>0.45</td>\n",
       "      <td>8.8</td>\n",
       "      <td>6</td>\n",
       "    </tr>\n",
       "    <tr>\n",
       "      <th>1</th>\n",
       "      <td>6.3</td>\n",
       "      <td>0.30</td>\n",
       "      <td>0.34</td>\n",
       "      <td>1.6</td>\n",
       "      <td>0.049</td>\n",
       "      <td>14.0</td>\n",
       "      <td>132.0</td>\n",
       "      <td>0.9940</td>\n",
       "      <td>3.30</td>\n",
       "      <td>0.49</td>\n",
       "      <td>9.5</td>\n",
       "      <td>6</td>\n",
       "    </tr>\n",
       "    <tr>\n",
       "      <th>2</th>\n",
       "      <td>8.1</td>\n",
       "      <td>0.28</td>\n",
       "      <td>0.40</td>\n",
       "      <td>6.9</td>\n",
       "      <td>0.050</td>\n",
       "      <td>30.0</td>\n",
       "      <td>97.0</td>\n",
       "      <td>0.9951</td>\n",
       "      <td>3.26</td>\n",
       "      <td>0.44</td>\n",
       "      <td>10.1</td>\n",
       "      <td>6</td>\n",
       "    </tr>\n",
       "    <tr>\n",
       "      <th>3</th>\n",
       "      <td>7.2</td>\n",
       "      <td>0.23</td>\n",
       "      <td>0.32</td>\n",
       "      <td>8.5</td>\n",
       "      <td>0.058</td>\n",
       "      <td>47.0</td>\n",
       "      <td>186.0</td>\n",
       "      <td>0.9956</td>\n",
       "      <td>3.19</td>\n",
       "      <td>0.40</td>\n",
       "      <td>9.9</td>\n",
       "      <td>6</td>\n",
       "    </tr>\n",
       "    <tr>\n",
       "      <th>4</th>\n",
       "      <td>7.2</td>\n",
       "      <td>0.23</td>\n",
       "      <td>0.32</td>\n",
       "      <td>8.5</td>\n",
       "      <td>0.058</td>\n",
       "      <td>47.0</td>\n",
       "      <td>186.0</td>\n",
       "      <td>0.9956</td>\n",
       "      <td>3.19</td>\n",
       "      <td>0.40</td>\n",
       "      <td>9.9</td>\n",
       "      <td>6</td>\n",
       "    </tr>\n",
       "  </tbody>\n",
       "</table>\n",
       "</div>"
      ],
      "text/plain": [
       "   fixed acidity  volatile acidity  citric acid  residual sugar  chlorides  \\\n",
       "0            7.0              0.27         0.36            20.7      0.045   \n",
       "1            6.3              0.30         0.34             1.6      0.049   \n",
       "2            8.1              0.28         0.40             6.9      0.050   \n",
       "3            7.2              0.23         0.32             8.5      0.058   \n",
       "4            7.2              0.23         0.32             8.5      0.058   \n",
       "\n",
       "   free sulfur dioxide  total sulfur dioxide  density    pH  sulphates  \\\n",
       "0                 45.0                 170.0   1.0010  3.00       0.45   \n",
       "1                 14.0                 132.0   0.9940  3.30       0.49   \n",
       "2                 30.0                  97.0   0.9951  3.26       0.44   \n",
       "3                 47.0                 186.0   0.9956  3.19       0.40   \n",
       "4                 47.0                 186.0   0.9956  3.19       0.40   \n",
       "\n",
       "   alcohol  quality  \n",
       "0      8.8        6  \n",
       "1      9.5        6  \n",
       "2     10.1        6  \n",
       "3      9.9        6  \n",
       "4      9.9        6  "
      ]
     },
     "execution_count": 4,
     "metadata": {},
     "output_type": "execute_result"
    }
   ],
   "source": [
    "white= white.drop('type', axis= 1)\n",
    "white.head()"
   ]
  },
  {
   "cell_type": "code",
   "execution_count": 5,
   "id": "8220bb53",
   "metadata": {
    "execution": {
     "iopub.execute_input": "2022-08-22T06:24:10.934323Z",
     "iopub.status.busy": "2022-08-22T06:24:10.933036Z",
     "iopub.status.idle": "2022-08-22T06:24:10.987097Z",
     "shell.execute_reply": "2022-08-22T06:24:10.985995Z"
    },
    "papermill": {
     "duration": 0.062461,
     "end_time": "2022-08-22T06:24:10.989547",
     "exception": false,
     "start_time": "2022-08-22T06:24:10.927086",
     "status": "completed"
    },
    "tags": []
   },
   "outputs": [
    {
     "data": {
      "text/html": [
       "<div>\n",
       "<style scoped>\n",
       "    .dataframe tbody tr th:only-of-type {\n",
       "        vertical-align: middle;\n",
       "    }\n",
       "\n",
       "    .dataframe tbody tr th {\n",
       "        vertical-align: top;\n",
       "    }\n",
       "\n",
       "    .dataframe thead th {\n",
       "        text-align: right;\n",
       "    }\n",
       "</style>\n",
       "<table border=\"1\" class=\"dataframe\">\n",
       "  <thead>\n",
       "    <tr style=\"text-align: right;\">\n",
       "      <th></th>\n",
       "      <th>fixed acidity</th>\n",
       "      <th>volatile acidity</th>\n",
       "      <th>citric acid</th>\n",
       "      <th>residual sugar</th>\n",
       "      <th>chlorides</th>\n",
       "      <th>free sulfur dioxide</th>\n",
       "      <th>total sulfur dioxide</th>\n",
       "      <th>density</th>\n",
       "      <th>pH</th>\n",
       "      <th>sulphates</th>\n",
       "      <th>alcohol</th>\n",
       "      <th>quality</th>\n",
       "    </tr>\n",
       "  </thead>\n",
       "  <tbody>\n",
       "    <tr>\n",
       "      <th>count</th>\n",
       "      <td>4890.000000</td>\n",
       "      <td>4891.000000</td>\n",
       "      <td>4896.000000</td>\n",
       "      <td>4896.000000</td>\n",
       "      <td>4896.000000</td>\n",
       "      <td>4898.000000</td>\n",
       "      <td>4898.000000</td>\n",
       "      <td>4898.000000</td>\n",
       "      <td>4891.000000</td>\n",
       "      <td>4896.000000</td>\n",
       "      <td>4898.000000</td>\n",
       "      <td>4898.000000</td>\n",
       "    </tr>\n",
       "    <tr>\n",
       "      <th>mean</th>\n",
       "      <td>6.855532</td>\n",
       "      <td>0.278252</td>\n",
       "      <td>0.334250</td>\n",
       "      <td>6.393250</td>\n",
       "      <td>0.045778</td>\n",
       "      <td>35.308085</td>\n",
       "      <td>138.360657</td>\n",
       "      <td>0.994027</td>\n",
       "      <td>3.188203</td>\n",
       "      <td>0.489835</td>\n",
       "      <td>10.514267</td>\n",
       "      <td>5.877909</td>\n",
       "    </tr>\n",
       "    <tr>\n",
       "      <th>std</th>\n",
       "      <td>0.843808</td>\n",
       "      <td>0.100811</td>\n",
       "      <td>0.120985</td>\n",
       "      <td>5.072275</td>\n",
       "      <td>0.021850</td>\n",
       "      <td>17.007137</td>\n",
       "      <td>42.498065</td>\n",
       "      <td>0.002991</td>\n",
       "      <td>0.151014</td>\n",
       "      <td>0.114147</td>\n",
       "      <td>1.230621</td>\n",
       "      <td>0.885639</td>\n",
       "    </tr>\n",
       "    <tr>\n",
       "      <th>min</th>\n",
       "      <td>3.800000</td>\n",
       "      <td>0.080000</td>\n",
       "      <td>0.000000</td>\n",
       "      <td>0.600000</td>\n",
       "      <td>0.009000</td>\n",
       "      <td>2.000000</td>\n",
       "      <td>9.000000</td>\n",
       "      <td>0.987110</td>\n",
       "      <td>2.720000</td>\n",
       "      <td>0.220000</td>\n",
       "      <td>8.000000</td>\n",
       "      <td>3.000000</td>\n",
       "    </tr>\n",
       "    <tr>\n",
       "      <th>25%</th>\n",
       "      <td>6.300000</td>\n",
       "      <td>0.210000</td>\n",
       "      <td>0.270000</td>\n",
       "      <td>1.700000</td>\n",
       "      <td>0.036000</td>\n",
       "      <td>23.000000</td>\n",
       "      <td>108.000000</td>\n",
       "      <td>0.991723</td>\n",
       "      <td>3.090000</td>\n",
       "      <td>0.410000</td>\n",
       "      <td>9.500000</td>\n",
       "      <td>5.000000</td>\n",
       "    </tr>\n",
       "    <tr>\n",
       "      <th>50%</th>\n",
       "      <td>6.800000</td>\n",
       "      <td>0.260000</td>\n",
       "      <td>0.320000</td>\n",
       "      <td>5.200000</td>\n",
       "      <td>0.043000</td>\n",
       "      <td>34.000000</td>\n",
       "      <td>134.000000</td>\n",
       "      <td>0.993740</td>\n",
       "      <td>3.180000</td>\n",
       "      <td>0.470000</td>\n",
       "      <td>10.400000</td>\n",
       "      <td>6.000000</td>\n",
       "    </tr>\n",
       "    <tr>\n",
       "      <th>75%</th>\n",
       "      <td>7.300000</td>\n",
       "      <td>0.320000</td>\n",
       "      <td>0.390000</td>\n",
       "      <td>9.900000</td>\n",
       "      <td>0.050000</td>\n",
       "      <td>46.000000</td>\n",
       "      <td>167.000000</td>\n",
       "      <td>0.996100</td>\n",
       "      <td>3.280000</td>\n",
       "      <td>0.550000</td>\n",
       "      <td>11.400000</td>\n",
       "      <td>6.000000</td>\n",
       "    </tr>\n",
       "    <tr>\n",
       "      <th>max</th>\n",
       "      <td>14.200000</td>\n",
       "      <td>1.100000</td>\n",
       "      <td>1.660000</td>\n",
       "      <td>65.800000</td>\n",
       "      <td>0.346000</td>\n",
       "      <td>289.000000</td>\n",
       "      <td>440.000000</td>\n",
       "      <td>1.038980</td>\n",
       "      <td>3.820000</td>\n",
       "      <td>1.080000</td>\n",
       "      <td>14.200000</td>\n",
       "      <td>9.000000</td>\n",
       "    </tr>\n",
       "  </tbody>\n",
       "</table>\n",
       "</div>"
      ],
      "text/plain": [
       "       fixed acidity  volatile acidity  citric acid  residual sugar  \\\n",
       "count    4890.000000       4891.000000  4896.000000     4896.000000   \n",
       "mean        6.855532          0.278252     0.334250        6.393250   \n",
       "std         0.843808          0.100811     0.120985        5.072275   \n",
       "min         3.800000          0.080000     0.000000        0.600000   \n",
       "25%         6.300000          0.210000     0.270000        1.700000   \n",
       "50%         6.800000          0.260000     0.320000        5.200000   \n",
       "75%         7.300000          0.320000     0.390000        9.900000   \n",
       "max        14.200000          1.100000     1.660000       65.800000   \n",
       "\n",
       "         chlorides  free sulfur dioxide  total sulfur dioxide      density  \\\n",
       "count  4896.000000          4898.000000           4898.000000  4898.000000   \n",
       "mean      0.045778            35.308085            138.360657     0.994027   \n",
       "std       0.021850            17.007137             42.498065     0.002991   \n",
       "min       0.009000             2.000000              9.000000     0.987110   \n",
       "25%       0.036000            23.000000            108.000000     0.991723   \n",
       "50%       0.043000            34.000000            134.000000     0.993740   \n",
       "75%       0.050000            46.000000            167.000000     0.996100   \n",
       "max       0.346000           289.000000            440.000000     1.038980   \n",
       "\n",
       "                pH    sulphates      alcohol      quality  \n",
       "count  4891.000000  4896.000000  4898.000000  4898.000000  \n",
       "mean      3.188203     0.489835    10.514267     5.877909  \n",
       "std       0.151014     0.114147     1.230621     0.885639  \n",
       "min       2.720000     0.220000     8.000000     3.000000  \n",
       "25%       3.090000     0.410000     9.500000     5.000000  \n",
       "50%       3.180000     0.470000    10.400000     6.000000  \n",
       "75%       3.280000     0.550000    11.400000     6.000000  \n",
       "max       3.820000     1.080000    14.200000     9.000000  "
      ]
     },
     "execution_count": 5,
     "metadata": {},
     "output_type": "execute_result"
    }
   ],
   "source": [
    "white.describe()"
   ]
  },
  {
   "cell_type": "code",
   "execution_count": 6,
   "id": "a3058077",
   "metadata": {
    "execution": {
     "iopub.execute_input": "2022-08-22T06:24:11.001861Z",
     "iopub.status.busy": "2022-08-22T06:24:11.001445Z",
     "iopub.status.idle": "2022-08-22T06:24:15.085539Z",
     "shell.execute_reply": "2022-08-22T06:24:15.084249Z"
    },
    "papermill": {
     "duration": 4.093655,
     "end_time": "2022-08-22T06:24:15.088533",
     "exception": false,
     "start_time": "2022-08-22T06:24:10.994878",
     "status": "completed"
    },
    "tags": []
   },
   "outputs": [
    {
     "data": {
      "image/png": "[encoded data removed]",
      "text/plain": [
       "<Figure size 1080x720 with 11 Axes>"
      ]
     },
     "metadata": {
      "needs_background": "light"
     },
     "output_type": "display_data"
    }
   ],
   "source": [
    "#plotting\n",
    "\n",
    "fig = plt.figure(figsize=(15,10))\n",
    "\n",
    "plt.subplot(3,4,1)\n",
    "sns.barplot(x='quality',y='fixed acidity',data=white)\n",
    "\n",
    "plt.subplot(3,4,2)\n",
    "sns.barplot(x='quality',y='volatile acidity',data=white)\n",
    "\n",
    "plt.subplot(3,4,3)\n",
    "sns.barplot(x='quality',y='citric acid',data=white)\n",
    "\n",
    "plt.subplot(3,4,4)\n",
    "sns.barplot(x='quality',y='residual sugar',data=white)\n",
    "\n",
    "plt.subplot(3,4,5)\n",
    "sns.barplot(x='quality',y='chlorides',data=white)\n",
    "\n",
    "plt.subplot(3,4,6)\n",
    "sns.barplot(x='quality',y='free sulfur dioxide',data=white)\n",
    "\n",
    "plt.subplot(3,4,7)\n",
    "sns.barplot(x='quality',y='total sulfur dioxide',data=white)\n",
    "\n",
    "plt.subplot(3,4,8)\n",
    "sns.barplot(x='quality',y='density',data=white)\n",
    "\n",
    "plt.subplot(3,4,9)\n",
    "sns.barplot(x='quality',y='pH',data=white)\n",
    "\n",
    "plt.subplot(3,4,10)\n",
    "sns.barplot(x='quality',y='sulphates',data=white)\n",
    "\n",
    "plt.subplot(3,4,11)\n",
    "sns.barplot(x='quality',y='alcohol',data=white)\n",
    "\n",
    "plt.tight_layout()"
   ]
  },
  {
   "cell_type": "markdown",
   "id": "49d802b6",
   "metadata": {
    "papermill": {
     "duration": 0.005467,
     "end_time": "2022-08-22T06:24:15.100265",
     "exception": false,
     "start_time": "2022-08-22T06:24:15.094798",
     "status": "completed"
    },
    "tags": []
   },
   "source": [
    "#### Inferences:\n",
    "\n",
    "Quality is high when:\n",
    "1. Chlorides are less\n",
    "2. Sulphur dioxide is less\n",
    "3. Sulphates are slightly less\n",
    "3. Alcohol is more\n"
   ]
  },
  {
   "cell_type": "code",
   "execution_count": 7,
   "id": "af5e4c6b",
   "metadata": {
    "execution": {
     "iopub.execute_input": "2022-08-22T06:24:15.113870Z",
     "iopub.status.busy": "2022-08-22T06:24:15.113400Z",
     "iopub.status.idle": "2022-08-22T06:24:15.122072Z",
     "shell.execute_reply": "2022-08-22T06:24:15.121105Z"
    },
    "papermill": {
     "duration": 0.018046,
     "end_time": "2022-08-22T06:24:15.124234",
     "exception": false,
     "start_time": "2022-08-22T06:24:15.106188",
     "status": "completed"
    },
    "tags": []
   },
   "outputs": [
    {
     "data": {
      "text/plain": [
       "6    2198\n",
       "5    1457\n",
       "7     880\n",
       "8     175\n",
       "4     163\n",
       "3      20\n",
       "9       5\n",
       "Name: quality, dtype: int64"
      ]
     },
     "execution_count": 7,
     "metadata": {},
     "output_type": "execute_result"
    }
   ],
   "source": [
    "white['quality'].value_counts()    "
   ]
  },
  {
   "cell_type": "markdown",
   "id": "b29c5f89",
   "metadata": {
    "papermill": {
     "duration": 0.005486,
     "end_time": "2022-08-22T06:24:15.135642",
     "exception": false,
     "start_time": "2022-08-22T06:24:15.130156",
     "status": "completed"
    },
    "tags": []
   },
   "source": [
    "#### Inference: \n",
    "6 is the most frequently occuring score, followed by 5, and 7 hence  6.5+ would be good, 5-6.5 as average, and below 5 as poor"
   ]
  },
  {
   "cell_type": "code",
   "execution_count": 8,
   "id": "f9961dba",
   "metadata": {
    "execution": {
     "iopub.execute_input": "2022-08-22T06:24:15.149903Z",
     "iopub.status.busy": "2022-08-22T06:24:15.149282Z",
     "iopub.status.idle": "2022-08-22T06:24:15.162752Z",
     "shell.execute_reply": "2022-08-22T06:24:15.161889Z"
    },
    "papermill": {
     "duration": 0.023544,
     "end_time": "2022-08-22T06:24:15.165092",
     "exception": false,
     "start_time": "2022-08-22T06:24:15.141548",
     "status": "completed"
    },
    "tags": []
   },
   "outputs": [
    {
     "data": {
      "text/plain": [
       "1    2198\n",
       "0    1640\n",
       "2    1060\n",
       "Name: grade, dtype: int64"
      ]
     },
     "execution_count": 8,
     "metadata": {},
     "output_type": "execute_result"
    }
   ],
   "source": [
    "grades= ['A', 'B', 'C']\n",
    "ranges= (1,5,6,10)\n",
    "white['grade']= pd.cut(white['quality'], bins= ranges, labels= grades)\n",
    "#white.tail()\n",
    "\n",
    "le= LabelEncoder()\n",
    "white['grade']= le.fit_transform(white['grade'])\n",
    "#white.tail()\n",
    "\n",
    "white['grade'].value_counts()\n"
   ]
  },
  {
   "cell_type": "code",
   "execution_count": 9,
   "id": "58c87bf9",
   "metadata": {
    "execution": {
     "iopub.execute_input": "2022-08-22T06:24:15.178884Z",
     "iopub.status.busy": "2022-08-22T06:24:15.178239Z",
     "iopub.status.idle": "2022-08-22T06:24:15.190271Z",
     "shell.execute_reply": "2022-08-22T06:24:15.189150Z"
    },
    "papermill": {
     "duration": 0.021811,
     "end_time": "2022-08-22T06:24:15.192728",
     "exception": false,
     "start_time": "2022-08-22T06:24:15.170917",
     "status": "completed"
    },
    "tags": []
   },
   "outputs": [
    {
     "data": {
      "text/plain": [
       "grade                   1.000000\n",
       "quality                 0.949061\n",
       "alcohol                 0.463165\n",
       "pH                      0.105746\n",
       "sulphates               0.060044\n",
       "free sulfur dioxide    -0.013977\n",
       "citric acid            -0.020291\n",
       "fixed acidity          -0.103741\n",
       "residual sugar         -0.125273\n",
       "volatile acidity       -0.183219\n",
       "total sulfur dioxide   -0.201185\n",
       "chlorides              -0.221429\n",
       "density                -0.332495\n",
       "Name: grade, dtype: float64"
      ]
     },
     "execution_count": 9,
     "metadata": {},
     "output_type": "execute_result"
    }
   ],
   "source": [
    "white.corr()['grade'].sort_values(ascending=False)"
   ]
  },
  {
   "cell_type": "markdown",
   "id": "f2082785",
   "metadata": {
    "papermill": {
     "duration": 0.005727,
     "end_time": "2022-08-22T06:24:15.204775",
     "exception": false,
     "start_time": "2022-08-22T06:24:15.199048",
     "status": "completed"
    },
    "tags": []
   },
   "source": [
    "### Inference\n",
    "On checking for correlation what we can infer is that grade is higher when:\n",
    "1. pH is slightly acidic\n",
    "2. alcohol is more\n",
    "3. slightly less citric acid content\n",
    "4. less amount of fixed acidity\n",
    "5. less chlorides, density,residual sugars and total sulphur dioxide"
   ]
  },
  {
   "cell_type": "markdown",
   "id": "78577850",
   "metadata": {
    "papermill": {
     "duration": 0.005687,
     "end_time": "2022-08-22T06:24:15.216419",
     "exception": false,
     "start_time": "2022-08-22T06:24:15.210732",
     "status": "completed"
    },
    "tags": []
   },
   "source": [
    "### Modelling\n",
    "\n"
   ]
  },
  {
   "cell_type": "code",
   "execution_count": 10,
   "id": "1954f487",
   "metadata": {
    "execution": {
     "iopub.execute_input": "2022-08-22T06:24:15.230494Z",
     "iopub.status.busy": "2022-08-22T06:24:15.229851Z",
     "iopub.status.idle": "2022-08-22T06:24:15.251549Z",
     "shell.execute_reply": "2022-08-22T06:24:15.250376Z"
    },
    "papermill": {
     "duration": 0.031726,
     "end_time": "2022-08-22T06:24:15.254143",
     "exception": false,
     "start_time": "2022-08-22T06:24:15.222417",
     "status": "completed"
    },
    "tags": []
   },
   "outputs": [],
   "source": [
    "from sklearn.model_selection import train_test_split\n",
    "from sklearn.impute import SimpleImputer\n",
    "\n",
    "imputer= SimpleImputer()\n",
    "\n",
    "X= white.drop('grade', axis= 1)\n",
    "y= white['grade']\n",
    "\n",
    "\n",
    "X= pd.DataFrame(imputer.fit_transform(X))\n",
    "\n",
    "\n",
    "X_train, X_test, y_train, y_test = train_test_split(X, y, test_size=0.31, random_state=101)"
   ]
  },
  {
   "cell_type": "code",
   "execution_count": 11,
   "id": "85f4fc69",
   "metadata": {
    "execution": {
     "iopub.execute_input": "2022-08-22T06:24:15.267904Z",
     "iopub.status.busy": "2022-08-22T06:24:15.267499Z",
     "iopub.status.idle": "2022-08-22T06:24:15.372921Z",
     "shell.execute_reply": "2022-08-22T06:24:15.370940Z"
    },
    "papermill": {
     "duration": 0.117171,
     "end_time": "2022-08-22T06:24:15.377348",
     "exception": false,
     "start_time": "2022-08-22T06:24:15.260177",
     "status": "completed"
    },
    "tags": []
   },
   "outputs": [
    {
     "name": "stdout",
     "output_type": "stream",
     "text": [
      "[0.24173917 1.80851983 0.2339564  ... 1.78496671 1.00321697 0.13188422]\n",
      "       0      1     2     3      4     5      6        7     8     9     10  \\\n",
      "999   7.6  0.210  0.60   2.1  0.046  47.0  165.0  0.99360  3.05  0.54  10.1   \n",
      "1207  6.4  0.300  0.38   7.8  0.046  35.0  192.0  0.99550  3.10  0.37   9.0   \n",
      "3756  5.5  0.170  0.23   2.9  0.039  10.0  108.0  0.99243  3.28  0.50  10.0   \n",
      "215   5.8  0.260  0.24   9.2  0.044  55.0  152.0  0.99610  3.31  0.38   9.4   \n",
      "429   7.1  0.310  0.47  13.6  0.056  54.0  197.0  0.99780  3.10  0.49   9.3   \n",
      "...   ...    ...   ...   ...    ...   ...    ...      ...   ...   ...   ...   \n",
      "4079  5.4  0.265  0.28   7.8  0.052  27.0   91.0  0.99432  3.19  0.38  10.4   \n",
      "4171  6.6  0.220  0.37   1.6  0.040  31.0  101.0  0.99009  3.15  0.66  12.0   \n",
      "599   6.9  0.190  0.40   1.4  0.036  14.0   55.0  0.99090  3.08  0.68  11.5   \n",
      "1361  6.0  0.130  0.28   5.7  0.038  56.0  189.5  0.99480  3.59  0.43  10.6   \n",
      "1547  6.7  0.300  0.49   4.8  0.034  36.0  158.0  0.99450  3.12  0.45   9.9   \n",
      "\n",
      "       11  \n",
      "999   7.0  \n",
      "1207  5.0  \n",
      "3756  5.0  \n",
      "215   5.0  \n",
      "429   5.0  \n",
      "...   ...  \n",
      "4079  6.0  \n",
      "4171  5.0  \n",
      "599   7.0  \n",
      "1361  7.0  \n",
      "1547  6.0  \n",
      "\n",
      "[3379 rows x 12 columns]\n"
     ]
    },
    {
     "data": {
      "text/plain": [
       "0.9049919778164162"
      ]
     },
     "execution_count": 11,
     "metadata": {},
     "output_type": "execute_result"
    }
   ],
   "source": [
    "#linear regression\n",
    "\n",
    "model2= LinearRegression()\n",
    "model2.fit(X_train, y_train)\n",
    "\n",
    "print(model2.predict(X_test))\n",
    "print(X_train)\n",
    "\n",
    "model2.score(X_test, y_test)\n"
   ]
  }
 ],
 "metadata": {
  "kernelspec": {
   "display_name": "Python 3",
   "language": "python",
   "name": "python3"
  },
  "language_info": {
   "codemirror_mode": {
    "name": "ipython",
    "version": 3
   },
   "file_extension": ".py",
   "mimetype": "text/x-python",
   "name": "python",
   "nbconvert_exporter": "python",
   "pygments_lexer": "ipython3",
   "version": "3.7.12"
  },
  "papermill": {
   "default_parameters": {},
   "duration": 16.232993,
   "end_time": "2022-08-22T06:24:16.236481",
   "environment_variables": {},
   "exception": null,
   "input_path": "__notebook__.ipynb",
   "output_path": "__notebook__.ipynb",
   "parameters": {},
   "start_time": "2022-08-22T06:24:00.003488",
   "version": "2.3.4"
  }
 },
 "nbformat": 4,
 "nbformat_minor": 5
}
